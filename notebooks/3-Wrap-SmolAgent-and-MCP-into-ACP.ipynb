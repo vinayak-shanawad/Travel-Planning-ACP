{
 "cells": [
  {
   "cell_type": "markdown",
   "id": "85fef7fd-1583-413a-a320-f130979642c8",
   "metadata": {},
   "source": [
    "# 3. Wrapping a Smolagents Agent into an Travel Guidance ACP Server"
   ]
  },
  {
   "cell_type": "markdown",
   "id": "7622f2c3",
   "metadata": {},
   "source": [
    "We will now create another ACP agent built with Smolagents. This second agent will be able to search the web to handle travel related questions for customers.  We will wrap the agent definition in an ACP server similarly to how we did with the first RAG agent."
   ]
  },
  {
   "cell_type": "markdown",
   "id": "a65b5353-4b4e-4024-9cba-2a70d5d203d8",
   "metadata": {},
   "source": [
    "## 3.1. Wrap the Travel Research Agent in ACP Server"
   ]
  },
  {
   "cell_type": "markdown",
   "id": "b49affb8",
   "metadata": {},
   "source": [
    "To define our agent, we will use [CodeAgent](https://smolagents.org/docs/agents-guided-tour/) from the Smolagents library. This type of agent writes and executes Python code at every step. For this agent, we will use two tools provided by Smolagents:\n",
    "\n",
    "- `DuckDuckGoSearchTool`: performs a web search using DuckDuckGo browser\n",
    "- `VisitWebpageTool`: can visit and extract content from web pages\n",
    "\n",
    "The agent is wrapped in an ACP server using `@server.agent()` decorator. The server will also run locally using a different port number: 8001. Run the following cell to save the agent as `smolagents_server.py` under `travel_acp_project`."
   ]
  },
  {
   "cell_type": "code",
   "execution_count": 1,
   "id": "8d9a42ee-c39a-4d47-ace0-6ab1c4da5c58",
   "metadata": {},
   "outputs": [
    {
     "name": "stdout",
     "output_type": "stream",
     "text": [
      "Overwriting ../travel_acp_project/src/smolagents_server.py\n"
     ]
    }
   ],
   "source": [
    "%%writefile ../travel_acp_project/src/smolagents_server.py\n",
    "from collections.abc import AsyncGenerator\n",
    "from acp_sdk.models import Message, MessagePart\n",
    "from acp_sdk.server import Context, RunYield, RunYieldResume, Server\n",
    "from smolagents import CodeAgent, DuckDuckGoSearchTool, LiteLLMModel, VisitWebpageTool\n",
    "import logging\n",
    "from dotenv import load_dotenv\n",
    "\n",
    "load_dotenv()\n",
    "\n",
    "server = Server()\n",
    "\n",
    "# Configure the LLM\n",
    "model = LiteLLMModel(\n",
    "    model_id=\"openai/gpt-4\",\n",
    "    max_tokens=2048\n",
    ")\n",
    "\n",
    "@server.agent()\n",
    "async def travel_research_agent(input: list[Message], context: Context) -> AsyncGenerator[RunYield, RunYieldResume]:\n",
    "    \"\"\"\n",
    "    This is a CodeAgent that supports travelers with up-to-date information about travel destinations,\n",
    "    visa requirements, best seasons to visit, and real-time tourism insights. It uses web search and\n",
    "    web page browsing tools to answer travel-related questions.\n",
    "    \"\"\"\n",
    "    agent = CodeAgent(\n",
    "        tools=[DuckDuckGoSearchTool(), VisitWebpageTool()],\n",
    "        model=model\n",
    "    )\n",
    "\n",
    "    prompt = input[0].parts[0].content\n",
    "    response = agent.run(prompt)\n",
    "\n",
    "    yield Message(parts=[MessagePart(content=str(response))])\n",
    "\n",
    "if __name__ == \"__main__\":\n",
    "    server.run(port=8000)"
   ]
  },
  {
   "cell_type": "markdown",
   "id": "9717def7",
   "metadata": {},
   "source": [
    "## 3.2. Adding MCP to the Travel Guidance Server"
   ]
  },
  {
   "cell_type": "markdown",
   "id": "f2ba298f",
   "metadata": {},
   "source": [
    "We will add another agent to the Travel Guidance Server that uses MCP to get access to tools:\n",
    "- We will first define an MCP server using `FastMCP` that runs using the `stdio` transport (i.e., it runs locally) and exposes one tool;\n",
    "- We will then update the travel guidance server to include a second agent;\n",
    "- We will define the agent using the ToolCallingAgent of Smolagents and pass to it the tool exposed by the MCP server;\n",
    "- We will finally activate the agent and interact with it using an ACP client."
   ]
  },
  {
   "cell_type": "markdown",
   "id": "f15e57f9",
   "metadata": {},
   "source": [
    "Run this cell to create the file `mcpserver.py` inside the folder `travel_acp_project`. The dependencies in the `travel_acp_project` have been also updated so we can run this MCP server using `uv run`."
   ]
  },
  {
   "cell_type": "code",
   "execution_count": 2,
   "id": "64645ff5",
   "metadata": {},
   "outputs": [
    {
     "name": "stdout",
     "output_type": "stream",
     "text": [
      "Overwriting ../travel_acp_project/src/mcpserver.py\n"
     ]
    }
   ],
   "source": [
    "%%writefile ../travel_acp_project/src/mcpserver.py\n",
    "from colorama import Fore\n",
    "from mcp.server.fastmcp import FastMCP\n",
    "import json\n",
    "import requests\n",
    "\n",
    "mcp = FastMCP(\"travelagencyserver\")\n",
    "\n",
    "@mcp.tool()\n",
    "def list_travel_agencies(city: str) -> str:\n",
    "    \"\"\"\n",
    "    This tool returns a list of travel agencies located in the given city.\n",
    "\n",
    "    Args:\n",
    "        city (str): The city name to search agencies for. Example: \"Hyderabad\"\n",
    "\n",
    "    Returns:\n",
    "        str: A list of travel agencies matching the city.\n",
    "        Example: '[{\"name\": \"GlobeTrotters Hyderabad\", \"rating\": 4.6, \"contact\": \"9876543210\"}, ...]'\n",
    "    \"\"\"\n",
    "    url = 'https://raw.githubusercontent.com/vinayak-shanawad/Travel-Planning-ACP/main/travel_agencies.json'\n",
    "    resp = requests.get(url)\n",
    "    agencies = json.loads(resp.text)\n",
    "\n",
    "    matched = [a for a in agencies if a['city'].lower() == city.lower()]\n",
    "    return json.dumps(matched, indent=2)\n",
    "\n",
    "if __name__ == \"__main__\":\n",
    "    mcp.run(transport=\"stdio\")\n"
   ]
  },
  {
   "cell_type": "markdown",
   "id": "58d33d26",
   "metadata": {},
   "source": [
    "## 3.3. Updating the Travel Guidance Server to use MCP"
   ]
  },
  {
   "cell_type": "markdown",
   "id": "853205c3",
   "metadata": {},
   "source": [
    "We will add the definition of the second agent `travel_agency_agent` which helps users find travel agencies near them. Note that for the MCP server, the command is defined as `uv run`."
   ]
  },
  {
   "cell_type": "code",
   "execution_count": 3,
   "id": "ae521af2",
   "metadata": {},
   "outputs": [
    {
     "name": "stdout",
     "output_type": "stream",
     "text": [
      "Overwriting ../travel_acp_project/src/smolagents_server.py\n"
     ]
    }
   ],
   "source": [
    "%%writefile ../travel_acp_project/src/smolagents_server.py\n",
    "from collections.abc import AsyncGenerator\n",
    "from acp_sdk.models import Message, MessagePart\n",
    "from acp_sdk.server import Context, RunYield, RunYieldResume, Server\n",
    "from smolagents import (\n",
    "    CodeAgent, DuckDuckGoSearchTool, LiteLLMModel, VisitWebpageTool,\n",
    "    ToolCallingAgent, ToolCollection\n",
    ")\n",
    "from mcp import StdioServerParameters\n",
    "\n",
    "server = Server()\n",
    "\n",
    "model = LiteLLMModel(\n",
    "    model_id=\"openai/gpt-4\",\n",
    "    max_tokens=2048\n",
    ")\n",
    "\n",
    "server_parameters = StdioServerParameters(\n",
    "    command=\"uv\",\n",
    "    args=[\"run\", \"src/mcpserver.py\"],\n",
    "    env=None,\n",
    ")\n",
    "\n",
    "@server.agent()\n",
    "async def travel_research_agent(input: list[Message], context: Context) -> AsyncGenerator[RunYield, RunYieldResume]:\n",
    "    \"\"\"\n",
    "    This is a CodeAgent that supports travelers with up-to-date information about travel destinations,\n",
    "    visa requirements, best seasons to visit, and real-time tourism insights. It uses web search and\n",
    "    web page browsing tools to answer travel-related questions.\n",
    "    \"\"\"\n",
    "    agent = CodeAgent(\n",
    "        tools=[DuckDuckGoSearchTool(), VisitWebpageTool()],\n",
    "        model=model\n",
    "    )\n",
    "\n",
    "    prompt = input[0].parts[0].content\n",
    "    response = agent.run(prompt)\n",
    "\n",
    "    yield Message(parts=[MessagePart(content=str(response))])\n",
    "\n",
    "@server.agent()\n",
    "async def travel_agency_agent(input: list[Message]) -> AsyncGenerator[RunYield, RunYieldResume]:\n",
    "    \"A Travel Agency Agent that helps users find travel agencies based on their city using an MCP tool.\"\n",
    "    with ToolCollection.from_mcp(server_parameters, trust_remote_code=True) as tool_collection:\n",
    "        agent = ToolCallingAgent(tools=tool_collection.tools, model=model)\n",
    "        prompt = input[0].parts[0].content\n",
    "        response = agent.run(prompt)\n",
    "        yield Message(parts=[MessagePart(content=str(response))])\n",
    "\n",
    "if __name__ == \"__main__\":\n",
    "    server.run(port=8000)\n"
   ]
  },
  {
   "cell_type": "markdown",
   "id": "ffcf5032",
   "metadata": {},
   "source": [
    "## 3.4. Run the Travel Guidance ACP Server"
   ]
  },
  {
   "cell_type": "markdown",
   "id": "9155047c",
   "metadata": {},
   "source": [
    "Now to activate our configured ACP agent, we also need to run our agent from another terminal.\n",
    "\n",
    "Open the second terminal by running the following commands:\n",
    "- `cd travel_acp_project`: navigate to directory where we created `travel_acp_project`.\n",
    "- `uv venv`: to create a virtual environment\n",
    "- `uv sync`: to install the dependencies defined in `pyproject.toml` file.\n",
    "- `.venv\\Scripts\\activate`: to activate the virtual environment.\n",
    "- Type `uv run python src/smolagents_server.py` to run the server and activate our ACP agent."
   ]
  },
  {
   "cell_type": "markdown",
   "id": "ba75c0ad",
   "metadata": {},
   "source": [
    "## 3.5. Sequentially Chaining the Agent Calls"
   ]
  },
  {
   "cell_type": "markdown",
   "id": "9423e9ab",
   "metadata": {},
   "source": [
    "Now that we have two activated ACP servers, we will create a sequential workflow by sequentially chaining the three agents as follows:\n",
    "\n",
    "1. 🧭 Travel Guidance ACP Server\n",
    "    - Hosts:\n",
    "        - Travel Agency Agent: Helps users find travel agencies based on their city using an MCP-based tool.\n",
    "        - Travel Research Agent: Handles general travel queries like visa requirements, best time to visit, weather, etc.\n",
    "\n",
    "2. 🧳 Travel Package ACP Server\n",
    "    - Hosts: Travel Package Agent\n",
    "    - Purpose: Answers user queries about travel itineraries, prices, and inclusions using travel brochures (PDFs or CSVs).\n",
    "\n",
    "<img src=\"./images/Sequential_Workflow.jpg\">\n",
    "\n",
    "🔁 Workflow Steps\n",
    "\n",
    "1. Step 1: Travel Agency Agent (on Travel Guidance ACP Server)\n",
    "\n",
    "    Query:\n",
    "    \"I am based in Hyderabad. Are there any travel agencies near me?\"\n",
    "\n",
    "    Response:\n",
    "    \"Yes, Thrillophilia, GT Holidays, RL Tours & Travels operate in Hyderabad.\"\n",
    "\n",
    "2. Step 2: Travel Research Agent (on Travel Guidance ACP Server)\n",
    "\n",
    "    Query (with context):\n",
    "    \"Based on agencies like Thrillophilia, what is the best time to go for a Europe trip from Hyderabad?\"\n",
    "\n",
    "    Response:\n",
    "    \"Spring (April–June) and Autumn (September–October) are ideal times to visit Europe from Hyderabad based on travel trends, weather, and crowd levels.\"\n",
    "\n",
    "3. Step 3: Travel Package Agent (on Travel Package ACP Server)\n",
    "\n",
    "    Query (with full context):\n",
    "    \"Given that April–June is ideal and agencies like Thrillophilia operate from Hyderabad, which Europe travel packages from Hyderabad include Switzerland?\"\n",
    "    \n",
    "    Response:\n",
    "    \"The 'Best of Switzerland & Italy' 9-day package by Thrillophilia is available from Hyderabad and includes visits to Lucerne, Zurich, and the Alps.\""
   ]
  },
  {
   "cell_type": "code",
   "execution_count": 4,
   "id": "fbbb3582",
   "metadata": {},
   "outputs": [],
   "source": [
    "import nest_asyncio\n",
    "nest_asyncio.apply()"
   ]
  },
  {
   "cell_type": "code",
   "execution_count": 5,
   "id": "8f4afec9",
   "metadata": {},
   "outputs": [],
   "source": [
    "from acp_sdk.client import Client\n",
    "import asyncio\n",
    "from colorama import Fore\n",
    "\n",
    "async def run_travel_workflow() -> None:\n",
    "    # Client 1: Travel Guidance ACP Server (Agent 1 & 2)\n",
    "    # Client 2: Travel Package ACP Server (Agent 3)\n",
    "    async with Client(base_url=\"http://localhost:8000\") as guidance, Client(base_url=\"http://localhost:8001\") as package:\n",
    "\n",
    "        # Step 1: Ask travel agency agent for agencies in Hyderabad\n",
    "        run1 = await guidance.run_sync(\n",
    "            agent=\"travel_agency_agent\",\n",
    "            input=\"I am based in Hyderabad. Are there any travel agencies near me?\"\n",
    "        )\n",
    "        agency_response = run1.output[0].parts[0].content\n",
    "        print(Fore.CYAN + \"TRAVEL AGENCY AGENT RESPONSE:\\n\" + agency_response + Fore.RESET)\n",
    "\n",
    "        # Step 2: Ask travel research agent using agency names as context\n",
    "        run2 = await guidance.run_sync(\n",
    "            agent=\"travel_research_agent\",\n",
    "            input=f\"Based on these agencies: {agency_response}\\nWhat is the best time to go for a Europe trip from Hyderabad?\"\n",
    "        )\n",
    "        research_response = run2.output[0].parts[0].content\n",
    "        print(Fore.LIGHTMAGENTA_EX + \"TRAVEL RESEARCH AGENT RESPONSE:\\n\" + research_response + Fore.RESET)\n",
    "\n",
    "        # Step 3: Ask travel package agent using previous responses as context\n",
    "        combined_context = f\"{agency_response}\\n{research_response}\"\n",
    "        run3 = await package.run_sync(\n",
    "            agent=\"travel_package_agent\",\n",
    "            input=f\"Context: {combined_context}\\nWhich Europe travel packages from Hyderabad include Switzerland?\"\n",
    "        )\n",
    "        package_response = run3.output[0].parts[0].content\n",
    "        print(Fore.YELLOW + \"TRAVEL PACKAGE AGENT RESPONSE:\\n\" + package_response + Fore.RESET)"
   ]
  },
  {
   "cell_type": "code",
   "execution_count": 6,
   "id": "852b87e4",
   "metadata": {},
   "outputs": [
    {
     "name": "stdout",
     "output_type": "stream",
     "text": [
      "\u001b[36mTRAVEL AGENCY AGENT RESPONSE:\n",
      "Yes, there are several travel agencies available in Hyderabad. Here are a few:\n",
      "1. [GT Holidays Hyderabad](https://www.gtholidays.in/hyderabad/), Rating: 4.7\n",
      "2. [RL Tours & Travels](https://rltours.in/), Rating: 4.5\n",
      "3. [IMAD Travel](https://imadtravel.com/), Rating: Not Available\n",
      "4. StarEdge Holidays, Rating: 4.6, Contact: Not Available\n",
      "5. [Thrillophilia](https://www.thrillophilia.com), Rating: Not Available\u001b[39m\n",
      "\u001b[95mTRAVEL RESEARCH AGENT RESPONSE:\n",
      "The best time to go for a Europe trip from Hyderabad is during the spring and fall shoulder seasons - from mid-April to mid-June and from September to October.\u001b[39m\n",
      "\u001b[33mTRAVEL PACKAGE AGENT RESPONSE:\n",
      "Here are the Europe travel packages from Hyderabad that include Switzerland:\n",
      "\n",
      "1. \"[Best of Switzerland & Italy | Roman Streets to Snowy Alps](https://www.thrillophilia.com/tours/best-of-switzerland-italy-tour-from-india)\": Duration of 9 days & 8 nights for INR 1,43,200.\n",
      "  \n",
      "2. \"[Scandinavian Snow Escape | Northern Nights & Winter Lights](https://www.thrillophilia.com/tours/scandinavian-snow-escape-from-india)\": Duration of 9 days & 8 nights for INR 2,91,000.\n",
      "   \n",
      "3. \"[Europe Golden Trio | Switzerland, Amsterdam & Paris Tour](https://www.thrillophilia.com/tours/europe-golden-trio-tour-from-india)\": Duration of 8 days & 7 nights for INR 1,73,000.\n",
      "   \n",
      "4. \"[Classic Europe in Winter | From Roman Ruins to Amsterdam Canals](https://www.thrillophilia.com/tours/classic-europe-in-winter-from-india)\": Duration of 13 days & 12 nights for INR 2,55,000.\n",
      "   \n",
      "5. \"[Western Europe In A Nutshell](https://www.thrillophilia.com/tours/western-europe-in-a-nutshell-from-india)\": Duration of 11 days & 10 nights for INR 1,72,000.\n",
      "   \n",
      "6. \"[Classic Switzerland | Peaks, Lakes, and Alpine Trails](https://www.thrillophilia.com/tours/classic-switzerland-tour-from-india)\": Duration of 7 days & 6 nights for INR 1,25,900.\n",
      "\n",
      "You can book your Europe tour package from Hyderabad with Thrillophilia, which guarantees a fantastic journey to Europe with great prices, attractive offers, unique activities, and personalized support.\u001b[39m\n"
     ]
    }
   ],
   "source": [
    "# Run the workflow\n",
    "asyncio.run(run_travel_workflow())"
   ]
  }
 ],
 "metadata": {
  "kernelspec": {
   "display_name": "acp-agents",
   "language": "python",
   "name": "python3"
  },
  "language_info": {
   "codemirror_mode": {
    "name": "ipython",
    "version": 3
   },
   "file_extension": ".py",
   "mimetype": "text/x-python",
   "name": "python",
   "nbconvert_exporter": "python",
   "pygments_lexer": "ipython3",
   "version": "3.12.0"
  }
 },
 "nbformat": 4,
 "nbformat_minor": 5
}
