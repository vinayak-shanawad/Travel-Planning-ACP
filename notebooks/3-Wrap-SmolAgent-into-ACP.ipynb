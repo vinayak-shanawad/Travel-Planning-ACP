{
 "cells": [
  {
   "cell_type": "markdown",
   "id": "85fef7fd-1583-413a-a320-f130979642c8",
   "metadata": {},
   "source": [
    "# 3. Wrapping a Smolagents Agent into an ACP Server"
   ]
  },
  {
   "cell_type": "markdown",
   "id": "7622f2c3",
   "metadata": {},
   "source": [
    "We will now create another ACP agent built with Smolagents. This second agent will be able to search the web to handle travel related questions for customers.  We will wrap the agent definition in an ACP server similarly to how we did with the first RAG agent."
   ]
  },
  {
   "cell_type": "markdown",
   "id": "a65b5353-4b4e-4024-9cba-2a70d5d203d8",
   "metadata": {},
   "source": [
    "## 3.1. Wrap the Agent in ACP Server"
   ]
  },
  {
   "cell_type": "markdown",
   "id": "b49affb8",
   "metadata": {},
   "source": [
    "To define our agent, we will use [CodeAgent](https://smolagents.org/docs/agents-guided-tour/) from the Smolagents library. This type of agent writes and executes Python code at every step. For this agent, we will use two tools provided by Smolagents:\n",
    "\n",
    "- DuckDuckGoSearchTool: performs a web search using DuckDuckGo browser\n",
    "- VisitWebpageTool: can visit and extract content from web pages\n",
    "\n",
    "The agent is wrapped in an ACP server using `@server.agent()` decorator. The server will also run locally using a different port number: 8001. Run the following cell to save the agent as `smolagents_server.py` under `travel_acp_project`."
   ]
  },
  {
   "cell_type": "code",
   "execution_count": 1,
   "id": "8d9a42ee-c39a-4d47-ace0-6ab1c4da5c58",
   "metadata": {},
   "outputs": [
    {
     "name": "stdout",
     "output_type": "stream",
     "text": [
      "Overwriting ../my_acp_project/smolagents_server.py\n"
     ]
    }
   ],
   "source": [
    "%%writefile ../travel_acp_project/src/smolagents_server.py\n",
    "from collections.abc import AsyncGenerator\n",
    "from acp_sdk.models import Message, MessagePart\n",
    "from acp_sdk.server import Context, RunYield, RunYieldResume, Server\n",
    "from smolagents import CodeAgent, DuckDuckGoSearchTool, LiteLLMModel, VisitWebpageTool\n",
    "import logging\n",
    "from dotenv import load_dotenv\n",
    "\n",
    "load_dotenv()\n",
    "\n",
    "server = Server()\n",
    "\n",
    "# Configure the LLM\n",
    "model = LiteLLMModel(\n",
    "    model_id=\"openai/gpt-4\",\n",
    "    max_tokens=2048\n",
    ")\n",
    "\n",
    "@server.agent()\n",
    "async def travel_research_agent(input: list[Message], context: Context) -> AsyncGenerator[RunYield, RunYieldResume]:\n",
    "    \"\"\"\n",
    "    This is a CodeAgent that supports travelers with up-to-date information about travel destinations,\n",
    "    visa requirements, best seasons to visit, and real-time tourism insights. It uses web search and\n",
    "    web page browsing tools to answer travel-related questions.\n",
    "    \"\"\"\n",
    "    agent = CodeAgent(\n",
    "        tools=[DuckDuckGoSearchTool(), VisitWebpageTool()],\n",
    "        model=model\n",
    "    )\n",
    "\n",
    "    prompt = input[0].parts[0].content\n",
    "    response = agent.run(prompt)\n",
    "\n",
    "    yield Message(parts=[MessagePart(content=str(response))])\n",
    "\n",
    "if __name__ == \"__main__\":\n",
    "    server.run(port=8000)"
   ]
  },
  {
   "cell_type": "markdown",
   "id": "b9527288-8508-4f79-b1f3-ecf301a93c72",
   "metadata": {},
   "source": [
    "## 3.2. Run the Travel Planner ACP Server"
   ]
  },
  {
   "cell_type": "markdown",
   "id": "61e6f7f0-c8ae-4084-b4e4-1f5314992b1a",
   "metadata": {},
   "source": [
    "Now to activate our configured ACP agent, we also need to run our agent from another terminal.\n",
    "\n",
    "Open the second terminal by running the following commands:\n",
    "- `cd travel_acp_project`: navigate to directory where we created `travel_acp_project`.\n",
    "- `uv venv`: to create a virtual environment\n",
    "- `uv sync`: to install the dependencies defined in `pyproject.toml` file.\n",
    "- `.venv\\Scripts\\activate`: to activate the virtual environment.\n",
    "- Type `uv run python src/smolagents_server.py` to run the server and activate our ACP agent."
   ]
  },
  {
   "cell_type": "markdown",
   "id": "9717def7",
   "metadata": {},
   "source": [
    "## 3.3. Adding MCP to the Travel Planner Server"
   ]
  },
  {
   "cell_type": "markdown",
   "id": "f2ba298f",
   "metadata": {},
   "source": [
    "We will add another agent to the Travel Planner Server that uses MCP to get access to tools:\n",
    "- We will first define an MCP server using `FastMCP` that runs using the `stdio` transport (i.e., it runs locally) and exposes one tool;\n",
    "- We will then update the travel planner server to include a second agent;\n",
    "- We will define the agent using the ToolCallingAgent of Smolagents and pass to it the tool exposed by the MCP server;\n",
    "- We will finally activate the agent and interact with it using an ACP client."
   ]
  },
  {
   "cell_type": "markdown",
   "id": "f15e57f9",
   "metadata": {},
   "source": [
    "Run this cell to create the file `mcpserver.py` inside the folder `travel_acp_project`. The dependencies in the `travel_acp_project` have been also updated so we can run this MCP server using `uv run`."
   ]
  },
  {
   "cell_type": "code",
   "execution_count": null,
   "id": "64645ff5",
   "metadata": {},
   "outputs": [],
   "source": [
    "%%writefile ../travel_acp_project/src/mcpserver.py\n",
    "from colorama import Fore\n",
    "from mcp.server.fastmcp import FastMCP\n",
    "import json\n",
    "import requests\n",
    "\n",
    "mcp = FastMCP(\"travelagencyserver\")\n",
    "\n",
    "@mcp.tool()\n",
    "def list_travel_agencies(city: str) -> str:\n",
    "    \"\"\"\n",
    "    This tool returns a list of travel agencies located in the given city.\n",
    "\n",
    "    Args:\n",
    "        city (str): The city name to search agencies for. Example: \"Hyderabad\"\n",
    "\n",
    "    Returns:\n",
    "        str: A list of travel agencies matching the city.\n",
    "        Example: '[{\"name\": \"GlobeTrotters Hyderabad\", \"rating\": 4.6, \"contact\": \"9876543210\"}, ...]'\n",
    "    \"\"\"\n",
    "    url = 'https://raw.githubusercontent.com/vinayak-me/travel-agency-mock-data/main/agencies.json'\n",
    "    resp = requests.get(url)\n",
    "    agencies = json.loads(resp.text)\n",
    "\n",
    "    matched = [a for a in agencies if a['city'].lower() == city.lower()]\n",
    "    return json.dumps(matched, indent=2)\n",
    "\n",
    "if __name__ == \"__main__\":\n",
    "    mcp.run(transport=\"stdio\")\n"
   ]
  }
 ],
 "metadata": {
  "kernelspec": {
   "display_name": "acp-agents",
   "language": "python",
   "name": "python3"
  },
  "language_info": {
   "codemirror_mode": {
    "name": "ipython",
    "version": 3
   },
   "file_extension": ".py",
   "mimetype": "text/x-python",
   "name": "python",
   "nbconvert_exporter": "python",
   "pygments_lexer": "ipython3",
   "version": "3.12.0"
  }
 },
 "nbformat": 4,
 "nbformat_minor": 5
}
