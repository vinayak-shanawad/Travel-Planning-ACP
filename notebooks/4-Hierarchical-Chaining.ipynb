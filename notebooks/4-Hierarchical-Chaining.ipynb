{
 "cells": [
  {
   "cell_type": "markdown",
   "id": "51314003-4f36-453f-88ff-c6621b784d59",
   "metadata": {},
   "source": [
    "# 4. Hierarchically Chaining the Agent Calls using a Router Agent"
   ]
  },
  {
   "cell_type": "markdown",
   "id": "4de52b6c",
   "metadata": {},
   "source": [
    "We will now create a hierarchical workflow using a router agent. Instead of having a fixed linear workflow like in the previous notebook - `3-Wrap-SmolAgent-and-MCP-into-ACP`, we will use a fourth agent (router) in the client-side that will decide when to call each ACP agent."
   ]
  },
  {
   "cell_type": "markdown",
   "id": "6b5c3f95-8f99-4d35-8369-d383176d6bc8",
   "metadata": {},
   "source": [
    "## 4.1. Start Up both ACP Servers"
   ]
  },
  {
   "cell_type": "markdown",
   "id": "39b7a6d8",
   "metadata": {},
   "source": [
    "First make sure the Travel Package ACP server and Travel Guidance ACP Servers are still running:\n",
    "- If the agents are still running from the previous notebooks, then we don't need to do anything else.\n",
    "- If the agents have stopped running, then we can run the servers again by typing:\n",
    "  - `uv run python src/crew_agent_server.py`\n",
    "  - `uv run python src/smolagents_server.py`"
   ]
  },
  {
   "cell_type": "markdown",
   "id": "52b648fc-f4f0-45b7-8d02-ecd368aeccc9",
   "metadata": {},
   "source": [
    "## 4.2. Import ACPCallingAgent"
   ]
  },
  {
   "cell_type": "markdown",
   "id": "07ce2605",
   "metadata": {},
   "source": [
    "The router agent is already implemented as the `ACPCallingAgent`. Please check a python file called `fastacp.py` where we can find the definition of the `ACPCallingAgent`. "
   ]
  },
  {
   "cell_type": "code",
   "execution_count": 1,
   "id": "5ddf3e18",
   "metadata": {},
   "outputs": [],
   "source": [
    "import sys\n",
    "import os\n",
    "\n",
    "sys.path.append(os.path.abspath(\"../travel_acp_project/src\"))"
   ]
  },
  {
   "cell_type": "code",
   "execution_count": 2,
   "id": "0dfeac96-37e7-4e5e-9162-3335e5837cac",
   "metadata": {},
   "outputs": [
    {
     "name": "stderr",
     "output_type": "stream",
     "text": [
      "c:\\Vinayak\\anaconda3\\envs\\acp-agents\\Lib\\site-packages\\tqdm\\auto.py:21: TqdmWarning: IProgress not found. Please update jupyter and ipywidgets. See https://ipywidgets.readthedocs.io/en/stable/user_install.html\n",
      "  from .autonotebook import tqdm as notebook_tqdm\n"
     ]
    }
   ],
   "source": [
    "import asyncio \n",
    "import nest_asyncio\n",
    "from acp_sdk.client import Client\n",
    "from smolagents import LiteLLMModel\n",
    "from fastacp import AgentCollection, ACPCallingAgent\n",
    "from colorama import Fore"
   ]
  },
  {
   "cell_type": "code",
   "execution_count": 3,
   "id": "d03d181e-d65e-47d3-83eb-1ba394d3801d",
   "metadata": {
    "jupyter": {
     "outputs_hidden": true
    }
   },
   "outputs": [
    {
     "name": "stdout",
     "output_type": "stream",
     "text": [
      "\n",
      "    This agent uses JSON-like ACP agent calls, similarly to how ToolCallingAgent uses tool calls,\n",
      "    but directed at remote ACP agents instead of local tools.\n",
      "    \n",
      "    Args:\n",
      "        acp_agents (`dict[str, Agent]`): ACP agents that this agent can call.\n",
      "        model (`Callable[[list[dict[str, str]]], ChatMessage]`): Model that will generate the agent's actions.\n",
      "        prompt_templates ([`Dict[str, str]`], *optional*): Prompt templates.\n",
      "        planning_interval (`int`, *optional*): Interval at which the agent will run a planning step.\n",
      "        **kwargs: Additional keyword arguments.\n",
      "    \n"
     ]
    }
   ],
   "source": [
    "print(ACPCallingAgent.__doc__)"
   ]
  },
  {
   "cell_type": "markdown",
   "id": "f4ae3cf3-6c40-4b13-a125-660f21d8f5a4",
   "metadata": {},
   "source": [
    "## 4.3. Run the Hierarchical Workflow "
   ]
  },
  {
   "cell_type": "code",
   "execution_count": 4,
   "id": "dcbe8308-1bc2-4fd6-88b1-5367ac895e22",
   "metadata": {},
   "outputs": [],
   "source": [
    "nest_asyncio.apply()"
   ]
  },
  {
   "cell_type": "markdown",
   "id": "cae8cd09",
   "metadata": {},
   "source": [
    "**Note**: The `fastacp.py` file does not only contain the definition for the ACPCallingAgent, but it also includes this method: `AgentCollection.from_acp` where the client objects (`travel_package_agent`, `travel_research_agent` and `travel_agency_agent`) discover the agents hosted on their corresponding servers by calling the method `.agents()`."
   ]
  },
  {
   "cell_type": "code",
   "execution_count": 5,
   "id": "96eeae29-1b30-4850-bcc4-27beb65505bb",
   "metadata": {},
   "outputs": [],
   "source": [
    "model = LiteLLMModel(\n",
    "    model_id=\"openai/gpt-4\"\n",
    ")\n",
    "\n",
    "async def run_travel_workflow() -> None:\n",
    "    # Step 1: Connect to both ACP servers\n",
    "    async with Client(base_url=\"http://localhost:8001\") as package, Client(base_url=\"http://localhost:8000\") as guidance:\n",
    "        \n",
    "        # Step 2: Discover all agents from both servers\n",
    "        agent_collection = await AgentCollection.from_acp(package, guidance)\n",
    "        acp_agents = {\n",
    "            agent.name: {'agent': agent, 'client': client}\n",
    "            for client, agent in agent_collection.agents\n",
    "        }\n",
    "\n",
    "        print(Fore.CYAN + \"Discovered ACP Agents:\\n\" + \"\\n\".join(acp_agents.keys()) + Fore.RESET)\n",
    "\n",
    "        # Step 3: Initialize the Router Agent (ACPCallingAgent)\n",
    "        router = ACPCallingAgent(acp_agents=acp_agents, model=model)\n",
    "\n",
    "        # Step 4: Run the full query\n",
    "        query = (\n",
    "            \"I’m based in Hyderabad. Which travel agencies can help me? \"\n",
    "            \"When is the best time to visit Europe? \"\n",
    "            \"Are there any packages from Hyderabad that include Switzerland?\"\n",
    "        )\n",
    "\n",
    "        result = await router.run(query)\n",
    "        print(Fore.YELLOW + f\"\\nFinal result:\\n{result}\" + Fore.RESET)"
   ]
  },
  {
   "cell_type": "code",
   "execution_count": 6,
   "id": "ca04856a-6404-4e98-9420-bcf8c0e9296d",
   "metadata": {},
   "outputs": [
    {
     "name": "stderr",
     "output_type": "stream",
     "text": [
      "WARNING:root:Tools being passed to model: ['travel_package_agent', 'travel_research_agent', 'travel_agency_agent']\n"
     ]
    },
    {
     "name": "stdout",
     "output_type": "stream",
     "text": [
      "\u001b[36mDiscovered ACP Agents:\n",
      "travel_package_agent\n",
      "travel_research_agent\n",
      "travel_agency_agent\u001b[39m\n",
      "[INFO] Step 1/10\n",
      "[DEBUG] Output message of the LLM:\n",
      "[DEBUG] ModelResponse(id='chatcmpl-ByuqlxOuD6TIXNmTvzWPfrpc1po1O', created=1753857911, model='gpt-4-0613', object='chat.completion', system_fingerprint=None, choices=[Choices(finish_reason='tool_calls', index=0, message=Message(content=None, role='assistant', tool_calls=[ChatCompletionMessageToolCall(function=Function(arguments='{\\n  \"prompt\": \"Find travel agencies in Hyderabad\"\\n}', name='travel_agency_agent'), id='call_3JkLMFTPmtamN3abFbNWHB1S', type='function')], function_call=None, provider_specific_fields={'refusal': None}, annotations=[]), provider_specific_fields={})], usage=Usage(completion_tokens=19, prompt_tokens=562, total_tokens=581, completion_tokens_details=CompletionTokensDetailsWrapper(accepted_prediction_tokens=0, audio_tokens=0, reasoning_tokens=0, rejected_prediction_tokens=0, text_tokens=None), prompt_tokens_details=PromptTokensDetailsWrapper(audio_tokens=0, cached_tokens=0, text_tokens=None, image_tokens=None)), service_tier='default')\n",
      "[INFO] Calling agent: 'travel_agency_agent' with arguments: {\n",
      "  \"prompt\": \"Find travel agencies in Hyderabad\"\n",
      "}\n",
      "\u001b[33mTool being called with args: () and kwargs: {'prompt': '{\\n  \"prompt\": \"Find travel agencies in Hyderabad\"\\n}'}\u001b[39m\n",
      "\u001b[35m{\n",
      "  \"prompt\": \"Find travel agencies in Hyderabad\"\n",
      "}\u001b[39m\n"
     ]
    },
    {
     "name": "stderr",
     "output_type": "stream",
     "text": [
      "c:\\Vinayak\\anaconda3\\envs\\acp-agents\\Lib\\site-packages\\pydantic\\main.py:463: UserWarning: Pydantic serializer warnings:\n",
      "  PydanticSerializationUnexpectedValue(Expected 9 fields but got 6: Expected `Message` - serialized value may not be as expected [input_value=Message(content=None, rol...: None}, annotations=[]), input_type=Message])\n",
      "  PydanticSerializationUnexpectedValue(Expected `StreamingChoices` - serialized value may not be as expected [input_value=Choices(finish_reason='to...ider_specific_fields={}), input_type=Choices])\n",
      "  return self.__pydantic_serializer__.to_python(\n",
      "WARNING:root:Tools being passed to model: ['travel_package_agent', 'travel_research_agent', 'travel_agency_agent']\n"
     ]
    },
    {
     "name": "stdout",
     "output_type": "stream",
     "text": [
      "\u001b[31mrun_id=UUID('88632a42-2736-475a-88f0-9a796c2b171c') agent_name='travel_agency_agent' session_id=UUID('1942be60-893e-4c65-b46f-017aabd2edb1') status=<RunStatus.COMPLETED: 'completed'> await_request=None output=[Message(role='agent/travel_agency_agent', parts=[MessagePart(name=None, content_type='text/plain', content='Travel agencies in Hyderabad:\\n1. GT Holidays Hyderabad - Rating: 4.7 - Contact: https://www.gtholidays.in/hyderabad/ - Packages: Domestic, International, Europe\\n2. RL Tours & Travels - Rating: 4.5 - Contact: https://rltours.in/ - Packages: Custom Europe, Asia, Domestic\\n3. IMAD Travel - Rating: No rating available - Contact: https://imadtravel.com/ - Packages: Luxury International Packages, Umrah, Europe\\n4. StarEdge Holidays - Rating: 4.6 - Packages: International Packages, Group Tours\\n5. Thrillophilia - Rating: No rating available - Contact: https://www.thrillophilia.com - Packages: Adventure Experiences, Multi-day Tours, International Packages', content_encoding='plain', content_url=None, metadata=None)], created_at=datetime.datetime(2025, 7, 30, 6, 45, 27, 520462, tzinfo=TzInfo(UTC)), completed_at=datetime.datetime(2025, 7, 30, 6, 45, 27, 520465, tzinfo=TzInfo(UTC)))] error=None created_at=datetime.datetime(2025, 7, 30, 6, 45, 12, 304548, tzinfo=TzInfo(UTC)) finished_at=datetime.datetime(2025, 7, 30, 6, 45, 27, 656779, tzinfo=TzInfo(UTC))\u001b[39m\n",
      "[DEBUG] Saved to memory: travel_agency_agent_response=Travel agencies in Hyderabad:\n",
      "1. GT Holidays Hyderabad - Rating: 4.7 - Contact: https://www.gtholidays.in/hyderabad/ - Packages: Domestic, International, Europe\n",
      "2. RL Tours & Travels - Rating: 4.5 - Contact: https://rltours.in/ - Packages: Custom Europe, Asia, Domestic\n",
      "3. IMAD Travel - Rating: No rating available - Contact: https://imadtravel.com/ - Packages: Luxury International Packages, Umrah, Europe\n",
      "4. StarEdge Holidays - Rating: 4.6 - Packages: International Packages, Group Tours\n",
      "5. Thrillophilia - Rating: No rating available - Contact: https://www.thrillophilia.com - Packages: Adventure Experiences, Multi-day Tours, International Packages\n",
      "[INFO] Observations: Travel agencies in Hyderabad:\n",
      "1. GT Holidays Hyderabad - Rating: 4.7 - Contact: https://www.gtholidays.in/hyderabad/ - Packages: Domestic, International, Europe\n",
      "2. RL Tours & Travels - Rating: 4.5 - Contact: https://rltours.in/ - Packages: Custom Europe, Asia, Domestic\n",
      "3. IMAD Travel - Rating: No rating available - Contact: https://imadtravel.com/ - Packages: Luxury International Packages, Umrah, Europe\n",
      "4. StarEdge Holidays - Rating: 4.6 - Packages: International Packages, Group Tours\n",
      "5. Thrillophilia - Rating: No rating available - Contact: https://www.thrillophilia.com - Packages: Adventure Experiences, Multi-day Tours, International Packages\n",
      "[INFO] Step 2/10\n",
      "[DEBUG] Output message of the LLM:\n",
      "[DEBUG] ModelResponse(id='chatcmpl-Byur24yM897zVJyD0rZSkKHkLyTgl', created=1753857928, model='gpt-4-0613', object='chat.completion', system_fingerprint=None, choices=[Choices(finish_reason='tool_calls', index=0, message=Message(content=None, role='assistant', tool_calls=[ChatCompletionMessageToolCall(function=Function(arguments='{\\n  \"prompt\": \"When is the best time to visit Europe?\"\\n}', name='travel_research_agent'), id='call_wZ9GCjft6eonVll1ama0pLkR', type='function')], function_call=None, provider_specific_fields={'refusal': None}, annotations=[]), provider_specific_fields={})], usage=Usage(completion_tokens=22, prompt_tokens=911, total_tokens=933, completion_tokens_details=CompletionTokensDetailsWrapper(accepted_prediction_tokens=0, audio_tokens=0, reasoning_tokens=0, rejected_prediction_tokens=0, text_tokens=None), prompt_tokens_details=PromptTokensDetailsWrapper(audio_tokens=0, cached_tokens=0, text_tokens=None, image_tokens=None)), service_tier='default')\n",
      "[INFO] Calling agent: 'travel_research_agent' with arguments: {\n",
      "  \"prompt\": \"When is the best time to visit Europe?\"\n",
      "}\n",
      "\u001b[33mTool being called with args: () and kwargs: {'prompt': '{\\n  \"prompt\": \"When is the best time to visit Europe?\"\\n}'}\u001b[39m\n",
      "\u001b[35m{\n",
      "  \"prompt\": \"When is the best time to visit Europe?\"\n",
      "}\u001b[39m\n"
     ]
    },
    {
     "name": "stderr",
     "output_type": "stream",
     "text": [
      "WARNING:root:Tools being passed to model: ['travel_package_agent', 'travel_research_agent', 'travel_agency_agent']\n"
     ]
    },
    {
     "name": "stdout",
     "output_type": "stream",
     "text": [
      "\u001b[31mrun_id=UUID('f88a89c8-b48e-476d-a65a-45341d31fcae') agent_name='travel_research_agent' session_id=UUID('1bad31c9-81ff-45ed-a2bf-ec00578a2f75') status=<RunStatus.COMPLETED: 'completed'> await_request=None output=[Message(role='agent/travel_research_agent', parts=[MessagePart(name=None, content_type='text/plain', content='The best time to visit Europe depends on several factors such as the specific destination, personal weather, crowd and budget preferences. However, for a mix of good weather, lower prices, and manageable crowds, the spring (April–June) and autumn (September–October) seasons are commonly suggested.', content_encoding='plain', content_url=None, metadata=None)], created_at=datetime.datetime(2025, 7, 30, 6, 45, 55, 608273, tzinfo=TzInfo(UTC)), completed_at=datetime.datetime(2025, 7, 30, 6, 45, 55, 608277, tzinfo=TzInfo(UTC)))] error=None created_at=datetime.datetime(2025, 7, 30, 6, 45, 30, 176131, tzinfo=TzInfo(UTC)) finished_at=datetime.datetime(2025, 7, 30, 6, 45, 55, 610073, tzinfo=TzInfo(UTC))\u001b[39m\n",
      "[DEBUG] Saved to memory: travel_research_agent_response=The best time to visit Europe depends on several factors such as the specific destination, personal weather, crowd and budget preferences. However, for a mix of good weather, lower prices, and manageable crowds, the spring (April–June) and autumn (September–October) seasons are commonly suggested.\n",
      "[INFO] Observations: The best time to visit Europe depends on several factors such as the specific destination, personal weather, crowd and budget preferences. However, for a mix of good weather, lower prices, and manageable crowds, the spring (April–June) and autumn (September–October) seasons are commonly suggested.\n",
      "[INFO] Step 3/10\n",
      "[DEBUG] Output message of the LLM:\n",
      "[DEBUG] ModelResponse(id='chatcmpl-ByurUzs3Lr8PLHFwffPNXbMxwiE9A', created=1753857956, model='gpt-4-0613', object='chat.completion', system_fingerprint=None, choices=[Choices(finish_reason='tool_calls', index=0, message=Message(content=None, role='assistant', tool_calls=[ChatCompletionMessageToolCall(function=Function(arguments='{\\n  \"prompt\": \"Packages from Hyderabad that include Switzerland\"\\n}', name='travel_package_agent'), id='call_VlzWbrYwke8Hef8h5ukj4Vbc', type='function')], function_call=None, provider_specific_fields={'refusal': None}, annotations=[]), provider_specific_fields={})], usage=Usage(completion_tokens=19, prompt_tokens=1224, total_tokens=1243, completion_tokens_details=CompletionTokensDetailsWrapper(accepted_prediction_tokens=0, audio_tokens=0, reasoning_tokens=0, rejected_prediction_tokens=0, text_tokens=None), prompt_tokens_details=PromptTokensDetailsWrapper(audio_tokens=0, cached_tokens=0, text_tokens=None, image_tokens=None)), service_tier='default')\n",
      "[INFO] Calling agent: 'travel_package_agent' with arguments: {\n",
      "  \"prompt\": \"Packages from Hyderabad that include Switzerland\"\n",
      "}\n",
      "\u001b[33mTool being called with args: () and kwargs: {'prompt': '{\\n  \"prompt\": \"Packages from Hyderabad that include Switzerland\"\\n}'}\u001b[39m\n",
      "\u001b[35m{\n",
      "  \"prompt\": \"Packages from Hyderabad that include Switzerland\"\n",
      "}\u001b[39m\n"
     ]
    },
    {
     "name": "stderr",
     "output_type": "stream",
     "text": [
      "WARNING:root:Tools being passed to model: ['travel_package_agent', 'travel_research_agent', 'travel_agency_agent']\n"
     ]
    },
    {
     "name": "stdout",
     "output_type": "stream",
     "text": [
      "\u001b[31mrun_id=UUID('87013922-9f41-4458-b76d-510d0fb2dfed') agent_name='travel_package_agent' session_id=UUID('a2b50ecd-41e6-4a74-bafd-6e59472026b2') status=<RunStatus.COMPLETED: 'completed'> await_request=None output=[Message(role='agent/travel_package_agent', parts=[MessagePart(name=None, content_type='text/plain', content='Here are some travel packages from Hyderabad that include Switzerland:\\n\\n1. \"Best of Switzerland & Italy | Roman Streets to Snowy Alps\" - 9 days & 8 nights for INR 1,43,200\\n2. \"Scandinavian Snow Escape | Northern Nights & Winter Lights\" - 9 days & 8 nights for INR 2,91,000\\n3. \"Europe Golden Trio | Switzerland, Amsterdam & Paris Tour\" - 8 days & 7 nights for INR 1,73,000\\n4. \"Classic Europe in Winter | From Roman Ruins to Amsterdam Canals\" - 13 days & 12 nights for INR 2,55,000\\n5. \"Western Europe In A Nutshell\" - 11 days & 10 nights for INR 1,72,000\\n6. \"Classic Switzerland | Peaks, Lakes, and Alpine Trails\" - 7 days & 6 nights for INR 1,25,900\\n\\nAll packages are offered by Thrillophilia. You can buy these packages from their website. They also offer discounts of up to 40% for different itineraries, which includes Group Tours, Family Tours, and Honeymoon tour options. Please ensure to check the recent prices and availability before making a booking.', content_encoding='plain', content_url=None, metadata=None)], created_at=datetime.datetime(2025, 7, 30, 6, 46, 17, 471851, tzinfo=TzInfo(UTC)), completed_at=datetime.datetime(2025, 7, 30, 6, 46, 17, 471854, tzinfo=TzInfo(UTC)))] error=None created_at=datetime.datetime(2025, 7, 30, 6, 45, 57, 906670, tzinfo=TzInfo(UTC)) finished_at=datetime.datetime(2025, 7, 30, 6, 46, 17, 473271, tzinfo=TzInfo(UTC))\u001b[39m\n",
      "[DEBUG] Saved to memory: travel_package_agent_response=Here are some travel packages from Hyderabad that include Switzerland:\n",
      "\n",
      "1. \"Best of Switzerland & Italy | Roman Streets to Snowy Alps\" - 9 days & 8 nights for INR 1,43,200\n",
      "2. \"Scandinavian Snow Escape | Northern Nights & Winter Lights\" - 9 days & 8 nights for INR 2,91,000\n",
      "3. \"Europe Golden Trio | Switzerland, Amsterdam & Paris Tour\" - 8 days & 7 nights for INR 1,73,000\n",
      "4. \"Classic Europe in Winter | From Roman Ruins to Amsterdam Canals\" - 13 days & 12 nights for INR 2,55,000\n",
      "5. \"Western Europe In A Nutshell\" - 11 days & 10 nights for INR 1,72,000\n",
      "6. \"Classic Switzerland | Peaks, Lakes, and Alpine Trails\" - 7 days & 6 nights for INR 1,25,900\n",
      "\n",
      "All packages are offered by Thrillophilia. You can buy these packages from their website. They also offer discounts of up to 40% for different itineraries, which includes Group Tours, Family Tours, and Honeymoon tour options. Please ensure to check the recent prices and availability before making a booking.\n",
      "[INFO] Observations: Here are some travel packages from Hyderabad that include Switzerland:\n",
      "\n",
      "1. \"Best of Switzerland & Italy | Roman Streets to Snowy Alps\" - 9 days & 8 nights for INR 1,43,200\n",
      "2. \"Scandinavian Snow Escape | Northern Nights & Winter Lights\" - 9 days & 8 nights for INR 2,91,000\n",
      "3. \"Europe Golden Trio | Switzerland, Amsterdam & Paris Tour\" - 8 days & 7 nights for INR 1,73,000\n",
      "4. \"Classic Europe in Winter | From Roman Ruins to Amsterdam Canals\" - 13 days & 12 nights for INR 2,55,000\n",
      "5. \"Western Europe In A Nutshell\" - 11 days & 10 nights for INR 1,72,000\n",
      "6. \"Classic Switzerland | Peaks, Lakes, and Alpine Trails\" - 7 days & 6 nights for INR 1,25,900\n",
      "\n",
      "All packages are offered by Thrillophilia. You can buy these packages from their website. They also offer discounts of up to 40% for different itineraries, which includes Group Tours, Family Tours, and Honeymoon tour options. Please ensure to check the recent prices and availability before making a booking.\n",
      "[INFO] Step 4/10\n",
      "[DEBUG] Output message of the LLM:\n",
      "[DEBUG] ModelResponse(id='chatcmpl-ByurqZ6exVZcMp8xaqRWP7W6LAkx0', created=1753857978, model='gpt-4-0613', object='chat.completion', system_fingerprint=None, choices=[Choices(finish_reason='tool_calls', index=0, message=Message(content=None, role='assistant', tool_calls=[ChatCompletionMessageToolCall(function=Function(arguments='Here are some travel agencies based in Hyderabad that you can consider:\\n1. GT Holidays Hyderabad: Provides domestic, international, and European packages. [Website](https://www.gtholidays.in/hyderabad/)\\n2. RL Tours & Travels: Offers custom European, Asian, and domestic packages. [Website](https://rltours.in/)\\n3. IMAD Travel: Specialists in luxury international packages including European trips. [Website](https://imadtravel.com/)\\n4. StarEdge Holidays: Provides international packages, group tours.\\n5. Thrillophilia: Known for adventure experiences, multi-day tours, and international packages including Switzerland. [Website](https://www.thrillophilia.com) \\n\\nThe best time to visit Europe generally is during the spring (April–June) and autumn (September–October) seasons when the weather is good, prices are lower, and crowds are manageable. \\n\\nHere are some travel packages from Hyderabad to Switzerland:\\n1. \"Best of Switzerland & Italy\": 9 days & 8 nights for INR 1,43,200\\n2. \"Scandinavian Snow Escape\": 9 days & 8 nights for INR 2,91,000\\n3. \"Europe Golden Trio\": 8 days & 7 nights for INR 1,73,000\\n4. \"Classic Europe in Winter\": 13 days & 12 nights for INR 2,55,000\\n5. \"Western Europe In A Nutshell\": 11 days & 10 nights for INR 1,72,000\\n6. \"Classic Switzerland\": 7 days & 6 nights for INR 1,25,900\\n\\nThese packages are offered by Thrillophilia. They also offer discounts of up to 40% for different itineraries which include Group Tours, Family Tours, and Honeymoon tour options. Please check the recent prices and availability on their website before booking.', name='final_answer'), id='call_eW0HOWFP2surEKjaLN4skoBR', type='function')], function_call=None, provider_specific_fields={'refusal': None}, annotations=[]), provider_specific_fields={})], usage=Usage(completion_tokens=402, prompt_tokens=2022, total_tokens=2424, completion_tokens_details=CompletionTokensDetailsWrapper(accepted_prediction_tokens=0, audio_tokens=0, reasoning_tokens=0, rejected_prediction_tokens=0, text_tokens=None), prompt_tokens_details=PromptTokensDetailsWrapper(audio_tokens=0, cached_tokens=0, text_tokens=None, image_tokens=None)), service_tier='default')\n",
      "[INFO] Calling agent: 'final_answer' with arguments: Here are some travel agencies based in Hyderabad that you can consider:\n",
      "1. GT Holidays Hyderabad: Provides domestic, international, and European packages. [Website](https://www.gtholidays.in/hyderabad/)\n",
      "2. RL Tours & Travels: Offers custom European, Asian, and domestic packages. [Website](https://rltours.in/)\n",
      "3. IMAD Travel: Specialists in luxury international packages including European trips. [Website](https://imadtravel.com/)\n",
      "4. StarEdge Holidays: Provides international packages, group tours.\n",
      "5. Thrillophilia: Known for adventure experiences, multi-day tours, and international packages including Switzerland. [Website](https://www.thrillophilia.com) \n",
      "\n",
      "The best time to visit Europe generally is during the spring (April–June) and autumn (September–October) seasons when the weather is good, prices are lower, and crowds are manageable. \n",
      "\n",
      "Here are some travel packages from Hyderabad to Switzerland:\n",
      "1. \"Best of Switzerland & Italy\": 9 days & 8 nights for INR 1,43,200\n",
      "2. \"Scandinavian Snow Escape\": 9 days & 8 nights for INR 2,91,000\n",
      "3. \"Europe Golden Trio\": 8 days & 7 nights for INR 1,73,000\n",
      "4. \"Classic Europe in Winter\": 13 days & 12 nights for INR 2,55,000\n",
      "5. \"Western Europe In A Nutshell\": 11 days & 10 nights for INR 1,72,000\n",
      "6. \"Classic Switzerland\": 7 days & 6 nights for INR 1,25,900\n",
      "\n",
      "These packages are offered by Thrillophilia. They also offer discounts of up to 40% for different itineraries which include Group Tours, Family Tours, and Honeymoon tour options. Please check the recent prices and availability on their website before booking.\n",
      "[INFO] Final result: Here are some travel agencies based in Hyderabad that you can consider:\n",
      "1. GT Holidays Hyderabad: Provides domestic, international, and European packages. [Website](https://www.gtholidays.in/hyderabad/)\n",
      "2. RL Tours & Travels: Offers custom European, Asian, and domestic packages. [Website](https://rltours.in/)\n",
      "3. IMAD Travel: Specialists in luxury international packages including European trips. [Website](https://imadtravel.com/)\n",
      "4. StarEdge Holidays: Provides international packages, group tours.\n",
      "5. Thrillophilia: Known for adventure experiences, multi-day tours, and international packages including Switzerland. [Website](https://www.thrillophilia.com) \n",
      "\n",
      "The best time to visit Europe generally is during the spring (April–June) and autumn (September–October) seasons when the weather is good, prices are lower, and crowds are manageable. \n",
      "\n",
      "Here are some travel packages from Hyderabad to Switzerland:\n",
      "1. \"Best of Switzerland & Italy\": 9 days & 8 nights for INR 1,43,200\n",
      "2. \"Scandinavian Snow Escape\": 9 days & 8 nights for INR 2,91,000\n",
      "3. \"Europe Golden Trio\": 8 days & 7 nights for INR 1,73,000\n",
      "4. \"Classic Europe in Winter\": 13 days & 12 nights for INR 2,55,000\n",
      "5. \"Western Europe In A Nutshell\": 11 days & 10 nights for INR 1,72,000\n",
      "6. \"Classic Switzerland\": 7 days & 6 nights for INR 1,25,900\n",
      "\n",
      "These packages are offered by Thrillophilia. They also offer discounts of up to 40% for different itineraries which include Group Tours, Family Tours, and Honeymoon tour options. Please check the recent prices and availability on their website before booking.\n",
      "\u001b[33m\n",
      "Final result:\n",
      "Here are some travel agencies based in Hyderabad that you can consider:\n",
      "1. GT Holidays Hyderabad: Provides domestic, international, and European packages. [Website](https://www.gtholidays.in/hyderabad/)\n",
      "2. RL Tours & Travels: Offers custom European, Asian, and domestic packages. [Website](https://rltours.in/)\n",
      "3. IMAD Travel: Specialists in luxury international packages including European trips. [Website](https://imadtravel.com/)\n",
      "4. StarEdge Holidays: Provides international packages, group tours.\n",
      "5. Thrillophilia: Known for adventure experiences, multi-day tours, and international packages including Switzerland. [Website](https://www.thrillophilia.com) \n",
      "\n",
      "The best time to visit Europe generally is during the spring (April–June) and autumn (September–October) seasons when the weather is good, prices are lower, and crowds are manageable. \n",
      "\n",
      "Here are some travel packages from Hyderabad to Switzerland:\n",
      "1. \"Best of Switzerland & Italy\": 9 days & 8 nights for INR 1,43,200\n",
      "2. \"Scandinavian Snow Escape\": 9 days & 8 nights for INR 2,91,000\n",
      "3. \"Europe Golden Trio\": 8 days & 7 nights for INR 1,73,000\n",
      "4. \"Classic Europe in Winter\": 13 days & 12 nights for INR 2,55,000\n",
      "5. \"Western Europe In A Nutshell\": 11 days & 10 nights for INR 1,72,000\n",
      "6. \"Classic Switzerland\": 7 days & 6 nights for INR 1,25,900\n",
      "\n",
      "These packages are offered by Thrillophilia. They also offer discounts of up to 40% for different itineraries which include Group Tours, Family Tours, and Honeymoon tour options. Please check the recent prices and availability on their website before booking.\u001b[39m\n"
     ]
    }
   ],
   "source": [
    "asyncio.run(run_travel_workflow())"
   ]
  },
  {
   "cell_type": "markdown",
   "id": "c7230a14",
   "metadata": {},
   "source": [
    "**Optional Reading:** Here's how the hierarchical flow works using the provided file `fastacp.py`:\n",
    "\n",
    "<img src=\"./images/Hierarchical_Workflow.jpg\">\n",
    "\n",
    "1. The agents hosted on each server are first discovered by their corresponding client objects and then converted to tools for the router agent (ACPCallingAgent): \n",
    "\n",
    "2. When the router agent receives a user query, it breaks downs the query into smaller steps where each step can be executed by the specialized agent. For a given step, the router agent uses the client of the specialized agent to send the request to it:\n",
    "\n",
    "    **🧭 Step 1: Travel Agency Agent (MCP Tool - in Guidance ACP)**\n",
    "\n",
    "    **Input:** \"I am based in Hyderabad. Are there any travel agencies near me?\"\n",
    "\n",
    "    **Output:**\n",
    "\n",
    "      - GT Holidays, RL Tours & Travels, IMAD Travel, StarEdge Holidays, Thrillophilia (✅ as seen in your logs)\n",
    "\n",
    "    **🧭 Step 2: Travel Research Agent (Smolagent - in Guidance ACP)**\n",
    "    \n",
    "    **Input:**\n",
    "\n",
    "      - \"Based on these agencies: {above list}, What is the best time to go for a Europe trip from Hyderabad?\"\n",
    "\n",
    "    **Output:**\n",
    "\n",
    "      - “Spring (April–June) and Autumn (Sept–Oct) are best. Weather is good, prices are better, and fewer crowds.”\n",
    "\n",
    "    **🧭 Step 3: Travel Package Agent (CrewAI + RAG - in Travel Package ACP)**\n",
    "\n",
    "    **Input:**\n",
    "\n",
    "      - Context: {agencies + season insight}\n",
    "\n",
    "      - \"Which Europe travel packages from Hyderabad include Switzerland?\"\n",
    "\n",
    "3. **🤖 Role of the Router Agent.** `ACPCallingAgent` behaves like an intelligent coordinator:\n",
    "\n",
    "    🧠 Analyzes the user’s query and context.\n",
    "\n",
    "    📌 Breaks it into 3 sub-goals: Agency lookup → Research → Package details.\n",
    "\n",
    "    🪄 Sequentially calls:\n",
    "\n",
    "    `travel_agency_agent` → via MCP\n",
    "\n",
    "    `travel_research_agent` → via SmolAgent\n",
    "\n",
    "    `travel_package_agent` → via CrewAI/RAG\n",
    "\n",
    "    It accumulates results in memory (as seen with Saved to memory: `travel_package_agent_response=`), and finally calls `final_answer` to compose the structured answer."
   ]
  }
 ],
 "metadata": {
  "kernelspec": {
   "display_name": "acp-agents",
   "language": "python",
   "name": "python3"
  },
  "language_info": {
   "codemirror_mode": {
    "name": "ipython",
    "version": 3
   },
   "file_extension": ".py",
   "mimetype": "text/x-python",
   "name": "python",
   "nbconvert_exporter": "python",
   "pygments_lexer": "ipython3",
   "version": "3.12.0"
  }
 },
 "nbformat": 4,
 "nbformat_minor": 5
}
