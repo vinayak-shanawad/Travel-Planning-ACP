{
 "cells": [
  {
   "cell_type": "markdown",
   "id": "58502ae5-b320-4097-a5fb-1a7fabd62ed5",
   "metadata": {},
   "source": [
    "# 2. Wrapping the RAG Agent into an ACP Server"
   ]
  },
  {
   "cell_type": "markdown",
   "id": "0f4076c6",
   "metadata": {},
   "source": [
    "Let's wrap the RAG CrewAI agent we created in the previously in ACP server and then run the ACP server to activate the agent so it can be discoverable by an ACP client."
   ]
  },
  {
   "cell_type": "markdown",
   "id": "d365502f-ce01-4073-9114-1fcd3d12cbd2",
   "metadata": {},
   "source": [
    "## 2.1. Wrap the Agent in ACP  Server"
   ]
  },
  {
   "cell_type": "markdown",
   "id": "52a393e7",
   "metadata": {},
   "source": [
    "We will now take the same code we worked on in `1-CrewAI-RAG-Agent` notebook and wrap it in a python file called: `crew_agent_server`.\n",
    "\n",
    "To make the agent ACP compliant, we can use the `@server.agent()` decorator to define our agent. The name is inferred from the function name, and the description is pulled from the docstring. Here's the minimal structure needed for an ACP-compliant agent:\n",
    "\n",
    "```python\n",
    "@server.agent()\n",
    "async def travel_package_agent(input: list[Message]) -> AsyncGenerator[RunYield, RunYieldResume]:\n",
    "    \"This is an agent for questions around policy coverage, it uses a RAG pattern to find answers based on policy documentation. Use it to help answer questions on coverage and waiting periods.\"\n",
    "    # Here goes the function definition\n",
    "    # ....\n",
    "    task_output = ...\n",
    "    yield Message(parts=[MessagePart(content=str(task_output))])\n",
    "```\n",
    "This configuration establishes several critical aspects of the agent:\n",
    "- **Function Definition**: The core functionality that determines what the agent does;\n",
    "- **Input Parameter**: The input parameter accepts a list of Message objects; \n",
    "- **Return Type**: The AsyncGenerator[RunYield, RunYieldResume] return type enables both streaming responses and the await pattern:\n",
    "   - AsyncGenerator: An async generator object that can be iterated with async for and supports await operations\n",
    "   - RunYield: The type of values this generator yields (sends out)\n",
    "   - RunYieldResume: The type of values this generator receives when resumed (sent back in) (in the definition below, we will only use RunYield)\n",
    "- **Documentation**: The docstring provides a human-readable description of the agent"
   ]
  },
  {
   "cell_type": "markdown",
   "id": "ba7802cd",
   "metadata": {},
   "source": [
    "Run the following cell to copy the content of the cell to the file `crew_agent_server.py` which will be saved under the folder `travel_acp_project`. "
   ]
  },
  {
   "cell_type": "code",
   "execution_count": null,
   "id": "c6c31f89-a03c-4bd4-a710-aae07ce0f90e",
   "metadata": {},
   "outputs": [],
   "source": [
    "%%writefile ../travel_acp_project/src/crew_agent_server.py\n",
    "from collections.abc import AsyncGenerator\n",
    "from acp_sdk.models import Message, MessagePart\n",
    "from acp_sdk.server import RunYield, RunYieldResume, Server\n",
    "\n",
    "from crewai import Crew, Task, Agent, LLM\n",
    "from crewai_tools import RagTool\n",
    "\n",
    "import nest_asyncio\n",
    "nest_asyncio.apply()\n",
    "\n",
    "server = Server()\n",
    "llm = LLM(model=\"openai/gpt-4\", max_tokens=1024)\n",
    "\n",
    "config = {\n",
    "    \"llm\": {\n",
    "        \"provider\": \"openai\",\n",
    "        \"config\": {\n",
    "            \"model\": \"gpt-4\",\n",
    "        }\n",
    "    },\n",
    "    \"embedding_model\": {\n",
    "        \"provider\": \"openai\",\n",
    "        \"config\": {\n",
    "            \"model\": \"text-embedding-ada-002\"\n",
    "        }\n",
    "    }\n",
    "}\n",
    "rag_tool = RagTool(config=config,  \n",
    "                   chunk_size=1200,       \n",
    "                   chunk_overlap=200,     \n",
    "                  )\n",
    "\n",
    "rag_tool.add(\"../data/Europe-Packages-from-Ahmedabad.pdf\", data_type=\"pdf_file\")\n",
    "rag_tool.add(\"../data/Europe-Packages-from-Chennai.pdf\", data_type=\"pdf_file\")\n",
    "rag_tool.add(\"../data/Europe-Packages-from-Delhi.pdf\", data_type=\"pdf_file\")\n",
    "rag_tool.add(\"../data/Europe-Packages-from-Hyderabad.pdf\", data_type=\"pdf_file\")\n",
    "\n",
    "\n",
    "@server.agent()\n",
    "async def travel_package_agent(input: list[Message]) -> AsyncGenerator[RunYield, RunYieldResume]:\n",
    "    \"This is an agent for questions around policy coverage, it uses a RAG pattern to find answers based on policy documentation. Use it to help answer questions on coverage and waiting periods.\"\n",
    "\n",
    "    travel_package_agent = Agent(\n",
    "        role=\"Senior Travel Package Advisor\",\n",
    "        goal=\"Accurately answer questions about Europe travel packages including pricing, itinerary, inclusions, exclusions, and departure cities.\",\n",
    "        backstory=(\n",
    "            \"You are a seasoned travel consultant specializing in curated Europe travel packages. \"\n",
    "            \"You assist customers by interpreting and explaining offerings from detailed travel brochures \"\n",
    "            \"for different departure cities like Ahmedabad, Delhi, Chennai, and Hyderabad.\"\n",
    "        ),\n",
    "        verbose=True,\n",
    "        allow_delegation=False,\n",
    "        llm=llm,\n",
    "        tools=[rag_tool],\n",
    "        max_retry_limit=5\n",
    "    )\n",
    "    \n",
    "    task1 = Task(\n",
    "         description=input[0].parts[0].content,\n",
    "         expected_output = \"A comprehensive response as to the users question\",\n",
    "         agent=travel_package_agent\n",
    "    )\n",
    "    crew = Crew(agents=[travel_package_agent], tasks=[task1], verbose=True)\n",
    "    \n",
    "    task_output = await crew.kickoff_async()\n",
    "    yield Message(parts=[MessagePart(content=str(task_output))])\n",
    "\n",
    "if __name__ == \"__main__\":\n",
    "    server.run(port=8001)"
   ]
  },
  {
   "cell_type": "markdown",
   "id": "7eeda960-1a87-48d2-b536-017aef898e12",
   "metadata": {},
   "source": [
    "## 2.2. Run the Travel Package ACP Server"
   ]
  },
  {
   "cell_type": "markdown",
   "id": "f2a26f5b-361c-4ce3-b6ca-7b58d9eabebc",
   "metadata": {},
   "source": [
    "**Note: How to set up `travel_acp_project` locally on our machine using the `uv` tool?**\n",
    "\n",
    "- First install `uv` by checking this [link](https://docs.astral.sh/uv/getting-started/installation/).\n",
    "\n",
    "After that, in the terminal we can type the following commands:\n",
    "- `cd travel_acp_project`: navigate to directory where we created `travel_acp_project`.\n",
    "- `uv venv`: to create a virtual environment\n",
    "- `uv sync`: to install the dependencies defined in `pyproject.toml` file.\n",
    "- `.venv\\Scripts\\activate`: to activate the virtual environment.\n",
    "\n",
    "We can then run the server using `uv run`.  Since this code uses an OpenAI model, we would also need to specify an openAI API key in a `.env` file like this: `OPENAI_API_KEY=sk-...`.\n",
    "\n",
    "Now to activate our configured ACP agent, we would need to run our agent server. The folder `travel_acp_project` has been set up for us so we can run the agent server using `uv`:\n",
    "\n",
    "- Type `uv run python src/crew_agent_server.py` to run the server and activate our ACP agent."
   ]
  },
  {
   "cell_type": "markdown",
   "id": "74ca84b4",
   "metadata": {},
   "source": [
    "## 2.3. Calling an Travel Package ACP Agent using the Client"
   ]
  },
  {
   "cell_type": "markdown",
   "id": "10caf86f",
   "metadata": {},
   "source": [
    "Now we will create an ACP client to interact with the ACP server. \n",
    "\n",
    "**Why `nest_asyncio` is needed?**\n",
    "\n",
    "We will run the ACP client from the environment of the jupyter notebook. Since the ACP client is an an asyncio process (can send asynchronous requests to the server), we will need first to import `nest_asyncio`. This is because the Jupyter notebook already runs an asyncio event loop in the background to handle various operations. When we try to run our own `asyncio` code (`asyncio.run()`), Python throws an error because we're trying to start a new event loop while one is already running. `nest_asyncio.apply()` allows nested event loops, which lets us run async code directly in Jupyter cells."
   ]
  },
  {
   "cell_type": "code",
   "execution_count": 9,
   "id": "d9eb5e75",
   "metadata": {},
   "outputs": [],
   "source": [
    "import nest_asyncio\n",
    "nest_asyncio.apply()"
   ]
  },
  {
   "cell_type": "markdown",
   "id": "717f620b",
   "metadata": {},
   "source": [
    "Since the agent is running locally at port 8001, all we need to do is to pass the endpoint `http://localhost:8001` to the client so it can discover the agents hosted inside the server. Using the `client`, we can execute the agent synchronously using the method `run_sync` (Synchronous execution waits until the agent completes processing and returns a single response). We will need to pass to `run_sync` the name of agent and the input message."
   ]
  },
  {
   "cell_type": "code",
   "execution_count": 10,
   "id": "d2619b9a",
   "metadata": {},
   "outputs": [],
   "source": [
    "from acp_sdk.client import Client\n",
    "import asyncio\n",
    "from colorama import Fore\n",
    "\n",
    "async def example() -> None:\n",
    "    async with Client(base_url=\"http://localhost:8001\") as client:\n",
    "        run = await client.run_sync(\n",
    "            # agent=\"travel_package_agent\", input=\"What is the total cost and duration of the 'Best of Switzerland & Italy' package from Hyderabad?\"\n",
    "            agent=\"travel_package_agent\", input=\"What is the best time to go for Europe trip from Hyderabad?\"\n",
    "        )\n",
    "        print(Fore.YELLOW + run.output[0].parts[0].content + Fore.RESET)"
   ]
  },
  {
   "cell_type": "code",
   "execution_count": 11,
   "id": "765e6d94",
   "metadata": {},
   "outputs": [
    {
     "name": "stdout",
     "output_type": "stream",
     "text": [
      "\u001b[33mYou can plan your Europe trip from Hyderabad at any time of the year as each season has its unique appeal. \n",
      "\n",
      "1. Peak Season (June to August): These are the summer months with temperatures ranging from 15°C to 30°C. Destinations like Santorini are at their best, and outdoor activities in France, Italy, and Spain are popular. Music festivals, long daylight hours, and vibrant city life attract large crowds to iconic landmarks.\n",
      "\n",
      "2. Waning Season (December to February):  The winter brings temperatures between -5°C to 10°C, which is ideal for skiing in the Swiss Alps or witnessing the Northern Lights in Norway. Festive Christmas markets in cities like Vienna and Prague provide magical experiences with fewer tourists and a cosy winter charm.\n",
      "\n",
      "Reaching Europe from Hyderabad is convenient with several flight options from Rajiv Gandhi International Airport to major European airports like Heathrow in London, or Frankfurt in Germany. Airlines such as Lufthansa, Emirates, Etihad, Qatar Airways, and Turkish Airlines operate frequent direct and connecting flights. While there are no direct flights to places other than Germany and London, with layovers in cities like Dubai, Doha, or Istanbul, the total travel time ranges between 12 and 16 hours.\u001b[39m\n"
     ]
    }
   ],
   "source": [
    "asyncio.run(example())"
   ]
  }
 ],
 "metadata": {
  "kernelspec": {
   "display_name": "acp-agents",
   "language": "python",
   "name": "python3"
  },
  "language_info": {
   "codemirror_mode": {
    "name": "ipython",
    "version": 3
   },
   "file_extension": ".py",
   "mimetype": "text/x-python",
   "name": "python",
   "nbconvert_exporter": "python",
   "pygments_lexer": "ipython3",
   "version": "3.12.0"
  }
 },
 "nbformat": 4,
 "nbformat_minor": 5
}
