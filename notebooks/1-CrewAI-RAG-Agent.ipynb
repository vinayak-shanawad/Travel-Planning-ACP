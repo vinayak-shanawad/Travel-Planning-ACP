{
 "cells": [
  {
   "cell_type": "markdown",
   "id": "58502ae5-b320-4097-a5fb-1a7fabd62ed5",
   "metadata": {},
   "source": [
    "# 1. Building a RAG Agent with CrewAI"
   ]
  },
  {
   "cell_type": "markdown",
   "id": "fa297dfd",
   "metadata": {},
   "source": [
    "Let's build a RAG agent with `CrewAI`. We will do that by integrating `RagTool` from `crewai_tools` with a `CrewAI` agent. `RagTool` provides a way to create and query knowledge bases from various data sources, and allows the agent to access specialized context. In this notebook, we will provide the RAG tool a pdf file containing details about Europe pacakges provided by a travel agency. By the end of the notebook, we build an travel package agent specialized in answering queries related to Europe tour packages. In the next notebook, we will wrap this agent in an ACP server and make it interact with other ACP agents."
   ]
  },
  {
   "cell_type": "markdown",
   "id": "b500d665",
   "metadata": {},
   "source": [
    "## 1.1. Import Libraries"
   ]
  },
  {
   "cell_type": "code",
   "execution_count": 9,
   "id": "95a5c843-7fc4-410e-9b1a-c197e45477ac",
   "metadata": {},
   "outputs": [],
   "source": [
    "from crewai import Crew, Task, Agent, LLM\n",
    "from crewai_tools import RagTool"
   ]
  },
  {
   "cell_type": "code",
   "execution_count": 10,
   "id": "4cad7d82-1911-4ff2-bf15-0921a1c37b68",
   "metadata": {},
   "outputs": [],
   "source": [
    "import warnings\n",
    "warnings.filterwarnings('ignore')"
   ]
  },
  {
   "cell_type": "markdown",
   "id": "aa6d9f55",
   "metadata": {},
   "source": [
    "## 1.2. Define the Agent's Large Language Model"
   ]
  },
  {
   "cell_type": "markdown",
   "id": "fa517dc3",
   "metadata": {},
   "source": [
    "We'll now define the large language model that we will use for our CrewAI agent. `max_tokens`: maximum number of tokens the model can generate in a single response.\n",
    "\n",
    "**Note**: If we will define this model locally, it requires that we define the API key in a **.env** file as follows:\n",
    "```\n",
    "# Required\n",
    "OPENAI_API_KEY=sk-...\n",
    "\n",
    "# Optional\n",
    "OPENAI_API_BASE=<custom-base-url>\n",
    "OPENAI_ORGANIZATION=<your-org-id>\n",
    "```"
   ]
  },
  {
   "cell_type": "code",
   "execution_count": 11,
   "id": "1210effe-3404-4074-941c-99caab76a467",
   "metadata": {},
   "outputs": [],
   "source": [
    "llm = LLM(model=\"openai/gpt-4\", max_tokens=1024)"
   ]
  },
  {
   "cell_type": "markdown",
   "id": "3236ffd3",
   "metadata": {},
   "source": [
    "## 1.3. Define the RAG Tool"
   ]
  },
  {
   "cell_type": "markdown",
   "id": "5ae5afb4",
   "metadata": {},
   "source": [
    "For the RAG tool, we can define the model provider and the embedding model in a configuration Python dictionary. We can also define the details of our vector database. If we don't specify the vector database, the RagTool will use Chroma (ChromaDB) as the default vector database in local/in-memory mode."
   ]
  },
  {
   "cell_type": "code",
   "execution_count": 12,
   "id": "eb8038c9-ff77-4225-8986-01afde9c6506",
   "metadata": {},
   "outputs": [],
   "source": [
    "config = {\n",
    "    \"llm\": {\n",
    "        \"provider\": \"openai\",\n",
    "        \"config\": {\n",
    "            \"model\": \"gpt-4\",\n",
    "        }\n",
    "    },\n",
    "    \"embedding_model\": {\n",
    "        \"provider\": \"openai\",\n",
    "        \"config\": {\n",
    "            \"model\": \"text-embedding-ada-002\"\n",
    "        }\n",
    "    }\n",
    "}"
   ]
  },
  {
   "cell_type": "markdown",
   "id": "ee65f01d",
   "metadata": {},
   "source": [
    "We can then pass the `config` to the `RagTool`, and then specify the data source for which the knowledge base will be constructed. When embedding our data, the `RagTool` chunks our document into chunks and create an embedding vector for each chunk. We can specify the chunk size (`chunk_size`: number of characters) and how many characters overlap between consecutive chunks (`chunk_overlap`). We can also use the default behavior."
   ]
  },
  {
   "cell_type": "code",
   "execution_count": 13,
   "id": "d438a239-443c-4e85-bfef-cef76d83e7d0",
   "metadata": {},
   "outputs": [],
   "source": [
    "rag_tool = RagTool(config=config,  \n",
    "                   chunk_size=1200,       \n",
    "                   chunk_overlap=200,     \n",
    "                  )\n",
    "\n",
    "rag_tool.add(\"../data/Europe-Packages-from-Ahmedabad.pdf\", data_type=\"pdf_file\")\n",
    "rag_tool.add(\"../data/Europe-Packages-from-Chennai.pdf\", data_type=\"pdf_file\")\n",
    "rag_tool.add(\"../data/Europe-Packages-from-Delhi.pdf\", data_type=\"pdf_file\")\n",
    "rag_tool.add(\"../data/Europe-Packages-from-Hyderabad.pdf\", data_type=\"pdf_file\")"
   ]
  },
  {
   "cell_type": "markdown",
   "id": "76b34384",
   "metadata": {},
   "source": [
    "## 1.4. Define the Travel Package Agent"
   ]
  },
  {
   "cell_type": "markdown",
   "id": "17f344aa",
   "metadata": {},
   "source": [
    "Now that you have the `rag_tool` defined, we define the CrewAI agent that can assist with travel package queries."
   ]
  },
  {
   "cell_type": "code",
   "execution_count": 14,
   "id": "3687f923-cd08-4e82-bfe3-1d47304a8c92",
   "metadata": {},
   "outputs": [],
   "source": [
    "travel_package_agent = Agent(\n",
    "    role=\"Senior Travel Package Advisor\",\n",
    "    goal=\"Accurately answer questions about Europe travel packages including pricing, itinerary, inclusions, exclusions, and departure cities.\",\n",
    "    backstory=(\n",
    "        \"You are a seasoned travel consultant specializing in curated Europe travel packages. \"\n",
    "        \"You assist customers by interpreting and explaining offerings from detailed travel brochures \"\n",
    "        \"for different departure cities like Ahmedabad, Delhi, Chennai, and Hyderabad.\"\n",
    "    ),\n",
    "    verbose=True,\n",
    "    allow_delegation=False,\n",
    "    llm=llm,\n",
    "    tools=[rag_tool],\n",
    "    max_retry_limit=5\n",
    ")"
   ]
  },
  {
   "cell_type": "markdown",
   "id": "2e138339",
   "metadata": {},
   "source": [
    "## 1.5. Define the Agent Task"
   ]
  },
  {
   "cell_type": "markdown",
   "id": "376fa787",
   "metadata": {},
   "source": [
    "Let's now test the travel package agent. For that, we need to define the agent task and pass to it the query and the agent."
   ]
  },
  {
   "cell_type": "code",
   "execution_count": 15,
   "id": "7e161f8c-632c-4fa6-b009-96b0b9b7ac8e",
   "metadata": {},
   "outputs": [],
   "source": [
    "task1 = Task(\n",
    "    description=(\n",
    "        \"The user wants to know the total cost and duration of the 'Best of Switzerland & Italy' \"\n",
    "        \"package from Hyderabad. Provide pricing, number of days, and what's included if available.\"\n",
    "    ),\n",
    "    expected_output=(\n",
    "        \"A clear and concise summary of the 'Best of Switzerland & Italy' package including cost, \"\n",
    "        \"duration, and any details about inclusions such as flights, hotels, and sightseeing.\"\n",
    "    ),\n",
    "    agent=travel_package_agent\n",
    ")"
   ]
  },
  {
   "cell_type": "markdown",
   "id": "bbc0223f",
   "metadata": {},
   "source": [
    "## 1.6. Run the Travel Package Agent"
   ]
  },
  {
   "cell_type": "markdown",
   "id": "ed782541",
   "metadata": {},
   "source": [
    "To run the agent, we need to pass the agent and the task to a Crew object that we can run using the `kickoff` method."
   ]
  },
  {
   "cell_type": "code",
   "execution_count": null,
   "id": "6079bd73-52e1-42b2-8aee-73f4a5d8cfa7",
   "metadata": {},
   "outputs": [],
   "source": [
    "crew = Crew(agents=[travel_package_agent], tasks=[task1], verbose=True)\n",
    "task_output = crew.kickoff()\n",
    "print(task_output)"
   ]
  }
 ],
 "metadata": {
  "kernelspec": {
   "display_name": "acp-agents",
   "language": "python",
   "name": "python3"
  },
  "language_info": {
   "codemirror_mode": {
    "name": "ipython",
    "version": 3
   },
   "file_extension": ".py",
   "mimetype": "text/x-python",
   "name": "python",
   "nbconvert_exporter": "python",
   "pygments_lexer": "ipython3",
   "version": "3.12.0"
  }
 },
 "nbformat": 4,
 "nbformat_minor": 5
}
